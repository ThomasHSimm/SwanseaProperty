{
 "cells": [
  {
   "cell_type": "markdown",
   "id": "301d3b16",
   "metadata": {},
   "source": [
    "# Overview of data analysis"
   ]
  },
  {
   "cell_type": "markdown",
   "id": "85f427a3",
   "metadata": {},
   "source": [
    "<h3> 1. Get census information for each Census ID  and a list of postcodes for each CensusID </h3>"
   ]
  },
  {
   "cell_type": "markdown",
   "id": "e978916a",
   "metadata": {},
   "source": [
    "This is done in \n",
    "\"GetPropertyInfo.ipynb\" https://github.com/dMaterialia/SwanseaProperty/blob/main/GetPropertyInfo.ipynb\n",
    "\n",
    "Files in = KS101_W, KS401_W, KS403_W from Census\n",
    "         = \"Swansea postocodes.csv\" from Doogal\n",
    "         = webscrape of Doogal\n",
    "\n",
    "Files out = SwanseaStep1.csv   postcodes and Census ID\n",
    "          = SwanseaCombo.csv   details per Census ID ~1000rows"
   ]
  },
  {
   "cell_type": "markdown",
   "id": "410d4aa2",
   "metadata": {},
   "source": [
    "<h3> 2. Get property price data for each census ID </h3>"
   ]
  },
  {
   "cell_type": "markdown",
   "id": "be28282d",
   "metadata": {},
   "source": [
    "This is done in \"SwanseaHousePrices.ipynb\" https://github.com/dMaterialia/SwanseaProperty/blob/main/SwanseaHousePrices.ipynb\n",
    "\n",
    "\n",
    "Files in = 'Property sales in SA*.csv' for each SA district from Doogal\n",
    "         = Swansea_step1.csv for postcode and census ID\n",
    "         \n",
    "Files out = 'SalesAll.csv' and 'SalesbyType.csv' SalesAll is used here"
   ]
  },
  {
   "cell_type": "markdown",
   "id": "f80cf581",
   "metadata": {},
   "source": [
    "<h3>3. Get 4 square data</h3>"
   ]
  },
  {
   "cell_type": "markdown",
   "id": "cf83e46b",
   "metadata": {},
   "source": [
    "This is done in 4squareNew.ipynb https://github.com/dMaterialia/SwanseaProperty/blob/main/4squareNew.ipynb"
   ]
  },
  {
   "cell_type": "markdown",
   "id": "5d610c50",
   "metadata": {},
   "source": [
    "<h3>4. Machine Learning models</h3>"
   ]
  },
  {
   "cell_type": "markdown",
   "id": "4ad85f12",
   "metadata": {},
   "source": [
    "These are found in \"MachineLearnBig.py\" https://github.com/dMaterialia/SwanseaProperty/blob/main/MachineLearnBig.py\n",
    "\n",
    "Called like this:\n",
    "\n",
    "<code>from MachineLearnBig import KNN_combo    \n",
    "colchoice=0\n",
    "SaveFilename='KNN_Property.csv'\n",
    "KNN_combo(colchoice,SaveFilename)</code>\n",
    "\n",
    "Choices are:\n",
    "- KNN_combo \n",
    "- RandomForest_combo\n",
    "Options are:\n",
    "-0 Fit property details \n",
    "-1 Fit location 4square details\n",
    "-2 Fit location and property details\n",
    "-3 Fit Lat and Long data\n"
   ]
  },
  {
   "cell_type": "markdown",
   "id": "829fc8e2",
   "metadata": {},
   "source": [
    "<h3> 5. Clustering</h3>"
   ]
  },
  {
   "cell_type": "markdown",
   "id": "237c04d2",
   "metadata": {},
   "source": [
    "This is shown in CreateClusteringPlots https://github.com/dMaterialia/SwanseaProperty/blob/main/CreateClusteringPlots.ipynb\n",
    "\n",
    "This finds the cluster data\n",
    "\n",
    "<code>from ClusteringByLocation import fit_Clusters, Clustering\n",
    "fname='Cluster_800_50_outdoors'\n",
    "cattype=fname.split('_')[-1]\n",
    "print(fname,cattype)\n",
    "swansea_grouped, swansea_venues=Clustering(fname,800,50,cattype)</code>\n",
    "\n",
    "And this fits and plots them\n",
    "\n",
    "<code>m=fit_Clusters(fname)\n",
    "m</code>\n",
    "\n",
    "See also https://nbviewer.jupyter.org/github/dMaterialia/SwanseaProperty/blob/main/ClusterPlots.ipynb"
   ]
  },
  {
   "cell_type": "markdown",
   "id": "0927a18d",
   "metadata": {},
   "source": [
    "<h3>6. Choro Plots</h3>"
   ]
  },
  {
   "cell_type": "markdown",
   "id": "011f7b2f",
   "metadata": {},
   "source": [
    "This is done in ChoroPlotting https://github.com/dMaterialia/SwanseaProperty/blob/main/ChoroPloting.ipynb\n",
    "See also https://nbviewer.jupyter.org/github/dMaterialia/SwanseaProperty/blob/main/ChoroPloting.ipynb"
   ]
  }
 ],
 "metadata": {
  "kernelspec": {
   "display_name": "Python 3",
   "language": "python",
   "name": "python3"
  },
  "language_info": {
   "codemirror_mode": {
    "name": "ipython",
    "version": 3
   },
   "file_extension": ".py",
   "mimetype": "text/x-python",
   "name": "python",
   "nbconvert_exporter": "python",
   "pygments_lexer": "ipython3",
   "version": "3.8.8"
  },
  "varInspector": {
   "cols": {
    "lenName": 16,
    "lenType": 16,
    "lenVar": 40
   },
   "kernels_config": {
    "python": {
     "delete_cmd_postfix": "",
     "delete_cmd_prefix": "del ",
     "library": "var_list.py",
     "varRefreshCmd": "print(var_dic_list())"
    },
    "r": {
     "delete_cmd_postfix": ") ",
     "delete_cmd_prefix": "rm(",
     "library": "var_list.r",
     "varRefreshCmd": "cat(var_dic_list()) "
    }
   },
   "types_to_exclude": [
    "module",
    "function",
    "builtin_function_or_method",
    "instance",
    "_Feature"
   ],
   "window_display": false
  }
 },
 "nbformat": 4,
 "nbformat_minor": 5
}
